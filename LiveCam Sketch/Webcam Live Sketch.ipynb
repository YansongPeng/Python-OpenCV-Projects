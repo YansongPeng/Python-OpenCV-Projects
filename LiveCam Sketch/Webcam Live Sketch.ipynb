{
 "cells": [
  {
   "cell_type": "code",
   "execution_count": 9,
   "metadata": {},
   "outputs": [],
   "source": [
    "import cv2\n",
    "import numpy as np\n",
    "\n",
    "# sketch function\n",
    "def sketch(image):\n",
    "    # Convert input image to grayscale\n",
    "    image_gray = cv2.cvtColor(image, cv2.COLOR_BGR2GRAY)\n",
    "    \n",
    "    # Blur the image\n",
    "    image_blur = cv2.GaussianBlur(image_gray, (5,5), 0)\n",
    "    \n",
    "    # Canny edges detection, set the best value you want\n",
    "    canny_edge = cv2.Canny(image_blur, 25, 65)\n",
    "    \n",
    "    # Get binary image out of a grayscale image\n",
    "    ret, mask = cv2.threshold(canny_edge, 60, 255, cv2.THRESH_BINARY_INV)\n",
    "    \n",
    "    return mask\n",
    "\n",
    "# initialize the webcam\n",
    "video_cap = cv2.VideoCapture(0)\n",
    "\n",
    "while True:\n",
    "    ret, frame = video_cap.read()\n",
    "    cv2.imshow('Live Sketch', sketch(frame))\n",
    "    # Press 'Esc' to exit\n",
    "    if cv2.waitKey(1) & 0xFF == 27:\n",
    "        break\n",
    "\n",
    "video_cap.release()\n",
    "cv2.destroyAllWindows()"
   ]
  },
  {
   "cell_type": "code",
   "execution_count": null,
   "metadata": {},
   "outputs": [],
   "source": []
  }
 ],
 "metadata": {
  "kernelspec": {
   "display_name": "Python 2",
   "language": "python",
   "name": "python2"
  },
  "language_info": {
   "codemirror_mode": {
    "name": "ipython",
    "version": 2
   },
   "file_extension": ".py",
   "mimetype": "text/x-python",
   "name": "python",
   "nbconvert_exporter": "python",
   "pygments_lexer": "ipython2",
   "version": "2.7.15"
  }
 },
 "nbformat": 4,
 "nbformat_minor": 2
}
