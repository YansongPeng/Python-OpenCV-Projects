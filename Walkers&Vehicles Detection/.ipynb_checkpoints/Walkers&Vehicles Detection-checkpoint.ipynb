{
 "cells": [
  {
   "cell_type": "markdown",
   "metadata": {},
   "source": [
    "    Walkers Detection"
   ]
  },
  {
   "cell_type": "code",
   "execution_count": 1,
   "metadata": {},
   "outputs": [],
   "source": [
    "import cv2\n",
    "import numpy as np\n",
    "\n",
    "# Create the Human Body Classifier\n",
    "body_classifier = cv2.CascadeClassifier('./haarcascade_fullbody.xml')\n",
    "\n",
    "# Initiate video\n",
    "cap = cv2.VideoCapture('./walkers.avi')\n",
    "\n",
    "# while loop \n",
    "while cap.isOpened():\n",
    "    \n",
    "    # Read first frame\n",
    "    ret, frame = cap.read()\n",
    "    # Resize the frame\n",
    "    frame = cv2.resize(frame, None, fx=0.5, fy=0.5, interpolation = cv2.INTER_LINEAR)\n",
    "    # Grayscale the frame\n",
    "    gray_frame = cv2.cvtColor(frame, cv2.COLOR_BGR2GRAY)\n",
    "    # Pass the frame to body classifier\n",
    "    bodies = body_classifier.detectMultiScale(gray_frame, 1.2, 3)\n",
    "    \n",
    "    # Extract bounding boxes for any bodies identified\n",
    "    for (x,y,w,h) in bodies:\n",
    "        cv2.rectangle(frame, (x,y), (x+w, y+h), (0, 255, 0), 1)\n",
    "        cv2.imshow('Walkers Detection', frame)\n",
    "    \n",
    "    # Press 'Esc' to exit\n",
    "    if cv2.waitKey(1) & 0xFF == 27:\n",
    "        break\n",
    "\n",
    "cap.release()\n",
    "cv2.destroyAllWindows()\n",
    "    "
   ]
  },
  {
   "cell_type": "code",
   "execution_count": null,
   "metadata": {},
   "outputs": [],
   "source": []
  },
  {
   "cell_type": "markdown",
   "metadata": {},
   "source": [
    "    Cars Dection"
   ]
  },
  {
   "cell_type": "code",
   "execution_count": 1,
   "metadata": {},
   "outputs": [],
   "source": [
    "import cv2\n",
    "import numpy as np\n",
    "\n",
    "# Create the Vehicle Body Classifier\n",
    "vehicle_classifier = cv2.CascadeClassifier('./haarcascade_vehicle.xml')\n",
    "\n",
    "# Initiate video\n",
    "cap = cv2.VideoCapture('./vehicles.avi')\n",
    "\n",
    "# while loop \n",
    "while cap.isOpened():\n",
    "    \n",
    "    # Read first frame\n",
    "    ret, frame = cap.read()\n",
    "    \n",
    "    # Grayscale the frame\n",
    "    gray_frame = cv2.cvtColor(frame, cv2.COLOR_BGR2GRAY)\n",
    "    # Pass the frame to body classifier\n",
    "    vehicles = vehicle_classifier.detectMultiScale(gray_frame, 1.2, 3)\n",
    "    \n",
    "    # Extract bounding boxes for any bodies identified\n",
    "    for (x,y,w,h) in vehicles:\n",
    "        cv2.rectangle(frame, (x,y), (x+w, y+h), (0, 255, 0), 1)\n",
    "        cv2.imshow('Vehicles Detection', frame)\n",
    "    \n",
    "    # Press 'Esc' to exit\n",
    "    if cv2.waitKey(1) & 0xFF == 27:\n",
    "        break\n",
    "\n",
    "cap.release()\n",
    "cv2.destroyAllWindows()\n",
    "    "
   ]
  },
  {
   "cell_type": "code",
   "execution_count": null,
   "metadata": {},
   "outputs": [],
   "source": []
  }
 ],
 "metadata": {
  "kernelspec": {
   "display_name": "Python 2",
   "language": "python",
   "name": "python2"
  },
  "language_info": {
   "codemirror_mode": {
    "name": "ipython",
    "version": 2
   },
   "file_extension": ".py",
   "mimetype": "text/x-python",
   "name": "python",
   "nbconvert_exporter": "python",
   "pygments_lexer": "ipython2",
   "version": "2.7.15"
  }
 },
 "nbformat": 4,
 "nbformat_minor": 2
}
